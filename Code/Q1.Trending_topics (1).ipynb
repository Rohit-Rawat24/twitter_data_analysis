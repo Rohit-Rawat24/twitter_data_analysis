{
 "cells": [
  {
   "cell_type": "code",
   "execution_count": 25,
   "metadata": {},
   "outputs": [],
   "source": [
    "import tweepy as tw\n",
    "import os\n",
    "import json\n",
    "import sys"
   ]
  },
  {
   "cell_type": "code",
   "execution_count": 13,
   "metadata": {},
   "outputs": [],
   "source": [
    "# API Keys and Tokens\n",
    "consumer_key = 'TXq9cSiPgoZvcKFb2h1wQcnfF'\n",
    "consumer_secret = 'Hf3jBUCLDd065ndxrPqhElNCdq4PUYuC0zh0MAyLOAc5vICA7C'\n",
    "access_token = '1423514561668272128-Exw0A7NmUy6txQg2JIOCzmATbvZeJY'\n",
    "access_secret = 'GyJnh9o1iCDbtDHtJXXuGPqjtDZ4OxRgoy7W7gC4sPeLx'\n"
   ]
  },
  {
   "cell_type": "code",
   "execution_count": 14,
   "metadata": {},
   "outputs": [],
   "source": [
    "# Authorization and Authentication\n",
    "auth = tw.OAuthHandler(consumer_key, consumer_secret)\n",
    "auth.set_access_token(access_token, access_secret)\n",
    "api = tw.API(auth)"
   ]
  },
  {
   "cell_type": "code",
   "execution_count": 15,
   "metadata": {},
   "outputs": [],
   "source": [
    "# WOEID of delhi, india\n",
    "woeid = 20070458"
   ]
  },
  {
   "cell_type": "code",
   "execution_count": 16,
   "metadata": {},
   "outputs": [],
   "source": [
    "# fetching the trends\n",
    "Trends = api.trends_place(id = woeid)"
   ]
  },
  {
   "cell_type": "code",
   "execution_count": 17,
   "metadata": {},
   "outputs": [
    {
     "name": "stdout",
     "output_type": "stream",
     "text": [
      "{'trends': [{'name': '#FreedomFromDrugs', 'url': 'http://twitter.com/search?q=%23FreedomFromDrugs', 'promoted_content': None, 'query': '%23FreedomFromDrugs', 'tweet_volume': 437901}, {'name': 'Afghanistan', 'url': 'http://twitter.com/search?q=Afghanistan', 'promoted_content': None, 'query': 'Afghanistan', 'tweet_volume': 1475610}, {'name': '#5YearsWithAGUSTD', 'url': 'http://twitter.com/search?q=%235YearsWithAGUSTD', 'promoted_content': None, 'query': '%235YearsWithAGUSTD', 'tweet_volume': 228821}, {'name': 'Sant Rampal Ji Maharaj', 'url': 'http://twitter.com/search?q=%22Sant+Rampal+Ji+Maharaj%22', 'promoted_content': None, 'query': '%22Sant+Rampal+Ji+Maharaj%22', 'tweet_volume': 391159}, {'name': 'Pujara', 'url': 'http://twitter.com/search?q=Pujara', 'promoted_content': None, 'query': 'Pujara', 'tweet_volume': 19895}, {'name': '#Kabul', 'url': 'http://twitter.com/search?q=%23Kabul', 'promoted_content': None, 'query': '%23Kabul', 'tweet_volume': 260133}, {'name': '#AmanKaAashiyaanByPBS', 'url': 'http://twitter.com/search?q=%23AmanKaAashiyaanByPBS', 'promoted_content': None, 'query': '%23AmanKaAashiyaanByPBS', 'tweet_volume': None}, {'name': '9YEARS OF ETT HYSTERIA', 'url': 'http://twitter.com/search?q=%229YEARS+OF+ETT+HYSTERIA%22', 'promoted_content': None, 'query': '%229YEARS+OF+ETT+HYSTERIA%22', 'tweet_volume': 46221}, {'name': '#INDvENG', 'url': 'http://twitter.com/search?q=%23INDvENG', 'promoted_content': None, 'query': '%23INDvENG', 'tweet_volume': 20932}, {'name': 'JEON JUNGKOOK', 'url': 'http://twitter.com/search?q=%22JEON+JUNGKOOK%22', 'promoted_content': None, 'query': '%22JEON+JUNGKOOK%22', 'tweet_volume': 61280}, {'name': 'Bharat Ki Shaan Sushant', 'url': 'http://twitter.com/search?q=%22Bharat+Ki+Shaan+Sushant%22', 'promoted_content': None, 'query': '%22Bharat+Ki+Shaan+Sushant%22', 'tweet_volume': 25406}, {'name': 'Sharia', 'url': 'http://twitter.com/search?q=Sharia', 'promoted_content': None, 'query': 'Sharia', 'tweet_volume': 22026}, {'name': 'D-1 TO FIGHTorESCAPE', 'url': 'http://twitter.com/search?q=%22D-1+TO+FIGHTorESCAPE%22', 'promoted_content': None, 'query': '%22D-1+TO+FIGHTorESCAPE%22', 'tweet_volume': 142319}, {'name': 'America', 'url': 'http://twitter.com/search?q=America', 'promoted_content': None, 'query': 'America', 'tweet_volume': 445536}, {'name': 'Biden', 'url': 'http://twitter.com/search?q=Biden', 'promoted_content': None, 'query': 'Biden', 'tweet_volume': 980267}, {'name': 'Tajikistan', 'url': 'http://twitter.com/search?q=Tajikistan', 'promoted_content': None, 'query': 'Tajikistan', 'tweet_volume': 20268}, {'name': 'Mendy', 'url': 'http://twitter.com/search?q=Mendy', 'promoted_content': None, 'query': 'Mendy', 'tweet_volume': 17281}, {'name': 'INSTAGRAM KING TAEHYUNG', 'url': 'http://twitter.com/search?q=%22INSTAGRAM+KING+TAEHYUNG%22', 'promoted_content': None, 'query': '%22INSTAGRAM+KING+TAEHYUNG%22', 'tweet_volume': 61089}, {'name': 'Israel', 'url': 'http://twitter.com/search?q=Israel', 'promoted_content': None, 'query': 'Israel', 'tweet_volume': 103044}, {'name': 'Islamic', 'url': 'http://twitter.com/search?q=Islamic', 'promoted_content': None, 'query': 'Islamic', 'tweet_volume': 66925}, {'name': 'BIRDIES LOVE YOU SHAHEER', 'url': 'http://twitter.com/search?q=%22BIRDIES+LOVE+YOU+SHAHEER%22', 'promoted_content': None, 'query': '%22BIRDIES+LOVE+YOU+SHAHEER%22', 'tweet_volume': None}, {'name': 'Pant', 'url': 'http://twitter.com/search?q=Pant', 'promoted_content': None, 'query': 'Pant', 'tweet_volume': None}, {'name': 'Sterling', 'url': 'http://twitter.com/search?q=Sterling', 'promoted_content': None, 'query': 'Sterling', 'tweet_volume': 19483}, {'name': 'राष्ट्रपति अशरफ', 'url': 'http://twitter.com/search?q=%22%E0%A4%B0%E0%A4%BE%E0%A4%B7%E0%A5%8D%E0%A4%9F%E0%A5%8D%E0%A4%B0%E0%A4%AA%E0%A4%A4%E0%A4%BF+%E0%A4%85%E0%A4%B6%E0%A4%B0%E0%A4%AB%22', 'promoted_content': None, 'query': '%22%E0%A4%B0%E0%A4%BE%E0%A4%B7%E0%A5%8D%E0%A4%9F%E0%A5%8D%E0%A4%B0%E0%A4%AA%E0%A4%A4%E0%A4%BF+%E0%A4%85%E0%A4%B6%E0%A4%B0%E0%A4%AB%22', 'tweet_volume': None}, {'name': 'Jinks', 'url': 'http://twitter.com/search?q=Jinks', 'promoted_content': None, 'query': 'Jinks', 'tweet_volume': None}, {'name': 'London', 'url': 'http://twitter.com/search?q=London', 'promoted_content': None, 'query': 'London', 'tweet_volume': 115965}, {'name': 'Kohli', 'url': 'http://twitter.com/search?q=Kohli', 'promoted_content': None, 'query': 'Kohli', 'tweet_volume': 36154}, {'name': 'Russia', 'url': 'http://twitter.com/search?q=Russia', 'promoted_content': None, 'query': 'Russia', 'tweet_volume': 79461}, {'name': 'शहनाज़ गिल', 'url': 'http://twitter.com/search?q=%22%E0%A4%B6%E0%A4%B9%E0%A4%A8%E0%A4%BE%E0%A4%9C%E0%A4%BC+%E0%A4%97%E0%A4%BF%E0%A4%B2%22', 'promoted_content': None, 'query': '%22%E0%A4%B6%E0%A4%B9%E0%A4%A8%E0%A4%BE%E0%A4%9C%E0%A4%BC+%E0%A4%97%E0%A4%BF%E0%A4%B2%22', 'tweet_volume': 44867}, {'name': 'Ek Tha Tiger', 'url': 'http://twitter.com/search?q=%22Ek+Tha+Tiger%22', 'promoted_content': None, 'query': '%22Ek+Tha+Tiger%22', 'tweet_volume': None}, {'name': '1 YEAR OF APNI MAATI', 'url': 'http://twitter.com/search?q=%221+YEAR+OF+APNI+MAATI%22', 'promoted_content': None, 'query': '%221+YEAR+OF+APNI+MAATI%22', 'tweet_volume': None}, {'name': 'Drug Free India', 'url': 'http://twitter.com/search?q=%22Drug+Free+India%22', 'promoted_content': None, 'query': '%22Drug+Free+India%22', 'tweet_volume': 10083}, {'name': 'ARMY ALERT OnTFMA', 'url': 'http://twitter.com/search?q=%22ARMY+ALERT+OnTFMA%22', 'promoted_content': None, 'query': '%22ARMY+ALERT+OnTFMA%22', 'tweet_volume': 22541}, {'name': 'Gerd Muller', 'url': 'http://twitter.com/search?q=%22Gerd+Muller%22', 'promoted_content': None, 'query': '%22Gerd+Muller%22', 'tweet_volume': 47024}, {'name': 'Air India', 'url': 'http://twitter.com/search?q=%22Air+India%22', 'promoted_content': None, 'query': '%22Air+India%22', 'tweet_volume': None}, {'name': 'Shamita', 'url': 'http://twitter.com/search?q=Shamita', 'promoted_content': None, 'query': 'Shamita', 'tweet_volume': None}, {'name': 'Mahrez', 'url': 'http://twitter.com/search?q=Mahrez', 'promoted_content': None, 'query': 'Mahrez', 'tweet_volume': 15331}, {'name': 'Sant Garibdas', 'url': 'http://twitter.com/search?q=%22Sant+Garibdas%22', 'promoted_content': None, 'query': '%22Sant+Garibdas%22', 'tweet_volume': None}, {'name': 'OTT KI SHAAN ZEESHAN', 'url': 'http://twitter.com/search?q=%22OTT+KI+SHAAN+ZEESHAN%22', 'promoted_content': None, 'query': '%22OTT+KI+SHAAN+ZEESHAN%22', 'tweet_volume': 20243}, {'name': 'Iran', 'url': 'http://twitter.com/search?q=Iran', 'promoted_content': None, 'query': 'Iran', 'tweet_volume': 119615}, {'name': 'Puji', 'url': 'http://twitter.com/search?q=Puji', 'promoted_content': None, 'query': 'Puji', 'tweet_volume': None}, {'name': 'Jinx', 'url': 'http://twitter.com/search?q=Jinx', 'promoted_content': None, 'query': 'Jinx', 'tweet_volume': None}, {'name': 'The US', 'url': 'http://twitter.com/search?q=%22The+US%22', 'promoted_content': None, 'query': '%22The+US%22', 'tweet_volume': 778503}, {'name': '#TOTMCI', 'url': 'http://twitter.com/search?q=%23TOTMCI', 'promoted_content': None, 'query': '%23TOTMCI', 'tweet_volume': 18727}, {'name': '#CelebrationWithWelfare', 'url': 'http://twitter.com/search?q=%23CelebrationWithWelfare', 'promoted_content': None, 'query': '%23CelebrationWithWelfare', 'tweet_volume': None}, {'name': '#MegaTreePlantationDrive', 'url': 'http://twitter.com/search?q=%23MegaTreePlantationDrive', 'promoted_content': None, 'query': '%23MegaTreePlantationDrive', 'tweet_volume': None}, {'name': '#விஜய்_ಮಾಸ್ಟರ್_TRPRaid', 'url': 'http://twitter.com/search?q=%23%E0%AE%B5%E0%AE%BF%E0%AE%9C%E0%AE%AF%E0%AF%8D_%E0%B2%AE%E0%B2%BE%E0%B2%B8%E0%B3%8D%E0%B2%9F%E0%B2%B0%E0%B3%8D_TRPRaid', 'promoted_content': None, 'query': '%23%E0%AE%B5%E0%AE%BF%E0%AE%9C%E0%AE%AF%E0%AF%8D_%E0%B2%AE%E0%B2%BE%E0%B2%B8%E0%B3%8D%E0%B2%9F%E0%B2%B0%E0%B3%8D_TRPRaid', 'tweet_volume': 195385}, {'name': '#IndianIdolGreatestFinaleEver', 'url': 'http://twitter.com/search?q=%23IndianIdolGreatestFinaleEver', 'promoted_content': None, 'query': '%23IndianIdolGreatestFinaleEver', 'tweet_volume': None}, {'name': '#NaveenCares', 'url': 'http://twitter.com/search?q=%23NaveenCares', 'promoted_content': None, 'query': '%23NaveenCares', 'tweet_volume': None}, {'name': '#LoserLover_Teaser2', 'url': 'http://twitter.com/search?q=%23LoserLover_Teaser2', 'promoted_content': None, 'query': '%23LoserLover_Teaser2', 'tweet_volume': 151355}], 'as_of': '2021-08-15T16:37:26Z', 'created_at': '2021-08-12T07:01:27Z', 'locations': [{'name': 'Delhi', 'woeid': 20070458}]}\n"
     ]
    }
   ],
   "source": [
    "for value in Trends:\n",
    "     print(value)"
   ]
  },
  {
   "cell_type": "code",
   "execution_count": 27,
   "metadata": {},
   "outputs": [
    {
     "data": {
      "text/html": [
       "\n",
       "            <div>\n",
       "                <p><b>SparkSession - hive</b></p>\n",
       "                \n",
       "        <div>\n",
       "            <p><b>SparkContext</b></p>\n",
       "\n",
       "            <p><a href=\"http://DESKTOP-U6TP5SP:4043\">Spark UI</a></p>\n",
       "\n",
       "            <dl>\n",
       "              <dt>Version</dt>\n",
       "                <dd><code>v3.1.2</code></dd>\n",
       "              <dt>Master</dt>\n",
       "                <dd><code>local[2]</code></dd>\n",
       "              <dt>AppName</dt>\n",
       "                <dd><code>PySparkShell</code></dd>\n",
       "            </dl>\n",
       "        </div>\n",
       "        \n",
       "            </div>\n",
       "        "
      ],
      "text/plain": [
       "<pyspark.sql.session.SparkSession at 0x1f3a4c22d00>"
      ]
     },
     "execution_count": 27,
     "metadata": {},
     "output_type": "execute_result"
    }
   ],
   "source": [
    "import pyspark\n",
    "from pyspark import SparkContext\n",
    "sc = SparkContext.getOrCreate();\n",
    "import findspark\n",
    "findspark.init()\n",
    "from pyspark.sql import SparkSession\n",
    "spark = SparkSession.builder.master(\"local[*]\").getOrCreate()\n",
    "spark.conf.set(\"spark.sql.repl.eagerEval.enabled\", True) # Property used to format output tables better\n",
    "spark\n"
   ]
  },
  {
   "cell_type": "code",
   "execution_count": 23,
   "metadata": {},
   "outputs": [],
   "source": [
    "#sc.stop()"
   ]
  },
  {
   "cell_type": "code",
   "execution_count": 19,
   "metadata": {},
   "outputs": [],
   "source": [
    "for value in Trends:\n",
    "    rdd = spark.sparkContext.parallelize(value['trends'])\n",
    "Trend_with_hashtag=rdd.toDF(sampleRatio=0.01)"
   ]
  },
  {
   "cell_type": "code",
   "execution_count": 20,
   "metadata": {},
   "outputs": [
    {
     "name": "stdout",
     "output_type": "stream",
     "text": [
      "+--------------------+------------+\n",
      "|                name|tweet_volume|\n",
      "+--------------------+------------+\n",
      "|   #FreedomFromDrugs|      437901|\n",
      "|         Afghanistan|     1475610|\n",
      "|   #5YearsWithAGUSTD|      228821|\n",
      "|Sant Rampal Ji Ma...|      391159|\n",
      "|              Pujara|       19895|\n",
      "|              #Kabul|      260133|\n",
      "|#AmanKaAashiyaanB...|        null|\n",
      "|9YEARS OF ETT HYS...|       46221|\n",
      "|            #INDvENG|       20932|\n",
      "|       JEON JUNGKOOK|       61280|\n",
      "|Bharat Ki Shaan S...|       25406|\n",
      "|              Sharia|       22026|\n",
      "|D-1 TO FIGHTorESCAPE|      142319|\n",
      "|             America|      445536|\n",
      "|               Biden|      980267|\n",
      "|          Tajikistan|       20268|\n",
      "|               Mendy|       17281|\n",
      "|INSTAGRAM KING TA...|       61089|\n",
      "|              Israel|      103044|\n",
      "|             Islamic|       66925|\n",
      "|BIRDIES LOVE YOU ...|        null|\n",
      "|                Pant|        null|\n",
      "|            Sterling|       19483|\n",
      "|     राष्ट्रपति अशरफ|        null|\n",
      "|               Jinks|        null|\n",
      "|              London|      115965|\n",
      "|               Kohli|       36154|\n",
      "|              Russia|       79461|\n",
      "|          शहनाज़ गिल|       44867|\n",
      "|        Ek Tha Tiger|        null|\n",
      "|1 YEAR OF APNI MAATI|        null|\n",
      "|     Drug Free India|       10083|\n",
      "|   ARMY ALERT OnTFMA|       22541|\n",
      "|         Gerd Muller|       47024|\n",
      "|           Air India|        null|\n",
      "|             Shamita|        null|\n",
      "|              Mahrez|       15331|\n",
      "|       Sant Garibdas|        null|\n",
      "|OTT KI SHAAN ZEESHAN|       20243|\n",
      "|                Iran|      119615|\n",
      "|                Puji|        null|\n",
      "|                Jinx|        null|\n",
      "|              The US|      778503|\n",
      "|             #TOTMCI|       18727|\n",
      "|#CelebrationWithW...|        null|\n",
      "|#MegaTreePlantati...|        null|\n",
      "|#விஜய்_ಮಾಸ್ಟರ್_TR...|      195385|\n",
      "|#IndianIdolGreate...|        null|\n",
      "|        #NaveenCares|        null|\n",
      "| #LoserLover_Teaser2|      151355|\n",
      "+--------------------+------------+\n",
      "\n"
     ]
    }
   ],
   "source": [
    "Trend_with_hashtag.createOrReplaceTempView(\"Trend\")\n",
    "TD=spark.sql(\"select name, tweet_volume from Trend\")\n",
    "TD.show(50)"
   ]
  },
  {
   "cell_type": "code",
   "execution_count": 21,
   "metadata": {},
   "outputs": [
    {
     "name": "stdout",
     "output_type": "stream",
     "text": [
      "{'trends': [{'name': 'Afghanistan', 'url': 'http://twitter.com/search?q=Afghanistan', 'promoted_content': None, 'query': 'Afghanistan', 'tweet_volume': 1475610}, {'name': 'Sant Rampal Ji Maharaj', 'url': 'http://twitter.com/search?q=%22Sant+Rampal+Ji+Maharaj%22', 'promoted_content': None, 'query': '%22Sant+Rampal+Ji+Maharaj%22', 'tweet_volume': 391781}, {'name': 'Pujara', 'url': 'http://twitter.com/search?q=Pujara', 'promoted_content': None, 'query': 'Pujara', 'tweet_volume': 19895}, {'name': '9YEARS OF ETT HYSTERIA', 'url': 'http://twitter.com/search?q=%229YEARS+OF+ETT+HYSTERIA%22', 'promoted_content': None, 'query': '%229YEARS+OF+ETT+HYSTERIA%22', 'tweet_volume': 46221}, {'name': 'JEON JUNGKOOK', 'url': 'http://twitter.com/search?q=%22JEON+JUNGKOOK%22', 'promoted_content': None, 'query': '%22JEON+JUNGKOOK%22', 'tweet_volume': 61280}, {'name': 'Bharat Ki Shaan Sushant', 'url': 'http://twitter.com/search?q=%22Bharat+Ki+Shaan+Sushant%22', 'promoted_content': None, 'query': '%22Bharat+Ki+Shaan+Sushant%22', 'tweet_volume': 25406}, {'name': 'Sharia', 'url': 'http://twitter.com/search?q=Sharia', 'promoted_content': None, 'query': 'Sharia', 'tweet_volume': 21970}, {'name': 'D-1 TO FIGHTorESCAPE', 'url': 'http://twitter.com/search?q=%22D-1+TO+FIGHTorESCAPE%22', 'promoted_content': None, 'query': '%22D-1+TO+FIGHTorESCAPE%22', 'tweet_volume': 142365}, {'name': 'Biden', 'url': 'http://twitter.com/search?q=Biden', 'promoted_content': None, 'query': 'Biden', 'tweet_volume': 980267}, {'name': 'America', 'url': 'http://twitter.com/search?q=America', 'promoted_content': None, 'query': 'America', 'tweet_volume': 446139}, {'name': 'Tajikistan', 'url': 'http://twitter.com/search?q=Tajikistan', 'promoted_content': None, 'query': 'Tajikistan', 'tweet_volume': 20234}, {'name': 'Mendy', 'url': 'http://twitter.com/search?q=Mendy', 'promoted_content': None, 'query': 'Mendy', 'tweet_volume': 17321}, {'name': 'INSTAGRAM KING TAEHYUNG', 'url': 'http://twitter.com/search?q=%22INSTAGRAM+KING+TAEHYUNG%22', 'promoted_content': None, 'query': '%22INSTAGRAM+KING+TAEHYUNG%22', 'tweet_volume': 61278}, {'name': 'Israel', 'url': 'http://twitter.com/search?q=Israel', 'promoted_content': None, 'query': 'Israel', 'tweet_volume': 103161}, {'name': 'Islamic', 'url': 'http://twitter.com/search?q=Islamic', 'promoted_content': None, 'query': 'Islamic', 'tweet_volume': 66839}, {'name': 'BIRDIES LOVE YOU SHAHEER', 'url': 'http://twitter.com/search?q=%22BIRDIES+LOVE+YOU+SHAHEER%22', 'promoted_content': None, 'query': '%22BIRDIES+LOVE+YOU+SHAHEER%22', 'tweet_volume': None}, {'name': 'Pant', 'url': 'http://twitter.com/search?q=Pant', 'promoted_content': None, 'query': 'Pant', 'tweet_volume': None}, {'name': 'Sterling', 'url': 'http://twitter.com/search?q=Sterling', 'promoted_content': None, 'query': 'Sterling', 'tweet_volume': 19483}, {'name': 'राष्ट्रपति अशरफ', 'url': 'http://twitter.com/search?q=%22%E0%A4%B0%E0%A4%BE%E0%A4%B7%E0%A5%8D%E0%A4%9F%E0%A5%8D%E0%A4%B0%E0%A4%AA%E0%A4%A4%E0%A4%BF+%E0%A4%85%E0%A4%B6%E0%A4%B0%E0%A4%AB%22', 'promoted_content': None, 'query': '%22%E0%A4%B0%E0%A4%BE%E0%A4%B7%E0%A5%8D%E0%A4%9F%E0%A5%8D%E0%A4%B0%E0%A4%AA%E0%A4%A4%E0%A4%BF+%E0%A4%85%E0%A4%B6%E0%A4%B0%E0%A4%AB%22', 'tweet_volume': None}, {'name': 'Russia', 'url': 'http://twitter.com/search?q=Russia', 'promoted_content': None, 'query': 'Russia', 'tweet_volume': 79461}, {'name': 'Jinks', 'url': 'http://twitter.com/search?q=Jinks', 'promoted_content': None, 'query': 'Jinks', 'tweet_volume': None}, {'name': 'Kohli', 'url': 'http://twitter.com/search?q=Kohli', 'promoted_content': None, 'query': 'Kohli', 'tweet_volume': 36154}, {'name': 'London', 'url': 'http://twitter.com/search?q=London', 'promoted_content': None, 'query': 'London', 'tweet_volume': 116081}, {'name': '1 YEAR OF APNI MAATI', 'url': 'http://twitter.com/search?q=%221+YEAR+OF+APNI+MAATI%22', 'promoted_content': None, 'query': '%221+YEAR+OF+APNI+MAATI%22', 'tweet_volume': None}, {'name': 'शहनाज़ गिल', 'url': 'http://twitter.com/search?q=%22%E0%A4%B6%E0%A4%B9%E0%A4%A8%E0%A4%BE%E0%A4%9C%E0%A4%BC+%E0%A4%97%E0%A4%BF%E0%A4%B2%22', 'promoted_content': None, 'query': '%22%E0%A4%B6%E0%A4%B9%E0%A4%A8%E0%A4%BE%E0%A4%9C%E0%A4%BC+%E0%A4%97%E0%A4%BF%E0%A4%B2%22', 'tweet_volume': 44867}, {'name': 'Ek Tha Tiger', 'url': 'http://twitter.com/search?q=%22Ek+Tha+Tiger%22', 'promoted_content': None, 'query': '%22Ek+Tha+Tiger%22', 'tweet_volume': None}, {'name': 'Drug Free India', 'url': 'http://twitter.com/search?q=%22Drug+Free+India%22', 'promoted_content': None, 'query': '%22Drug+Free+India%22', 'tweet_volume': 10109}, {'name': 'ARMY ALERT OnTFMA', 'url': 'http://twitter.com/search?q=%22ARMY+ALERT+OnTFMA%22', 'promoted_content': None, 'query': '%22ARMY+ALERT+OnTFMA%22', 'tweet_volume': 22541}, {'name': 'Gerd Muller', 'url': 'http://twitter.com/search?q=%22Gerd+Muller%22', 'promoted_content': None, 'query': '%22Gerd+Muller%22', 'tweet_volume': 47094}, {'name': 'Air India', 'url': 'http://twitter.com/search?q=%22Air+India%22', 'promoted_content': None, 'query': '%22Air+India%22', 'tweet_volume': None}, {'name': 'Shamita', 'url': 'http://twitter.com/search?q=Shamita', 'promoted_content': None, 'query': 'Shamita', 'tweet_volume': None}, {'name': 'Puji', 'url': 'http://twitter.com/search?q=Puji', 'promoted_content': None, 'query': 'Puji', 'tweet_volume': None}, {'name': 'Mahrez', 'url': 'http://twitter.com/search?q=Mahrez', 'promoted_content': None, 'query': 'Mahrez', 'tweet_volume': 15331}, {'name': 'Sant Garibdas', 'url': 'http://twitter.com/search?q=%22Sant+Garibdas%22', 'promoted_content': None, 'query': '%22Sant+Garibdas%22', 'tweet_volume': None}, {'name': 'OTT KI SHAAN ZEESHAN', 'url': 'http://twitter.com/search?q=%22OTT+KI+SHAAN+ZEESHAN%22', 'promoted_content': None, 'query': '%22OTT+KI+SHAAN+ZEESHAN%22', 'tweet_volume': 20243}, {'name': 'Iran', 'url': 'http://twitter.com/search?q=Iran', 'promoted_content': None, 'query': 'Iran', 'tweet_volume': 119522}, {'name': 'Jinx', 'url': 'http://twitter.com/search?q=Jinx', 'promoted_content': None, 'query': 'Jinx', 'tweet_volume': None}, {'name': 'The US', 'url': 'http://twitter.com/search?q=%22The+US%22', 'promoted_content': None, 'query': '%22The+US%22', 'tweet_volume': 780511}], 'as_of': '2021-08-15T16:37:46Z', 'created_at': '2021-08-12T07:01:27Z', 'locations': [{'name': 'Delhi', 'woeid': 20070458}]}\n"
     ]
    }
   ],
   "source": [
    "trends = api.trends_place(id = woeid,exclude = \"hashtags\")\n",
    "for value in trends:\n",
    "    print(value)"
   ]
  },
  {
   "cell_type": "code",
   "execution_count": 28,
   "metadata": {},
   "outputs": [],
   "source": [
    "for value in trends:\n",
    "    RDD = spark.sparkContext.parallelize(value.get('trends'))\n",
    "trend_without_hashtag=RDD.toDF(sampleRatio=0.01)"
   ]
  },
  {
   "cell_type": "code",
   "execution_count": 29,
   "metadata": {},
   "outputs": [
    {
     "name": "stdout",
     "output_type": "stream",
     "text": [
      "+--------------------+------------+\n",
      "|                name|tweet_volume|\n",
      "+--------------------+------------+\n",
      "|         Afghanistan|     1475610|\n",
      "|Sant Rampal Ji Ma...|      391781|\n",
      "|              Pujara|       19895|\n",
      "|9YEARS OF ETT HYS...|       46221|\n",
      "|       JEON JUNGKOOK|       61280|\n",
      "|Bharat Ki Shaan S...|       25406|\n",
      "|              Sharia|       21970|\n",
      "|D-1 TO FIGHTorESCAPE|      142365|\n",
      "|               Biden|      980267|\n",
      "|             America|      446139|\n",
      "|          Tajikistan|       20234|\n",
      "|               Mendy|       17321|\n",
      "|INSTAGRAM KING TA...|       61278|\n",
      "|              Israel|      103161|\n",
      "|             Islamic|       66839|\n",
      "|BIRDIES LOVE YOU ...|        null|\n",
      "|                Pant|        null|\n",
      "|            Sterling|       19483|\n",
      "|     राष्ट्रपति अशरफ|        null|\n",
      "|              Russia|       79461|\n",
      "|               Jinks|        null|\n",
      "|               Kohli|       36154|\n",
      "|              London|      116081|\n",
      "|1 YEAR OF APNI MAATI|        null|\n",
      "|          शहनाज़ गिल|       44867|\n",
      "|        Ek Tha Tiger|        null|\n",
      "|     Drug Free India|       10109|\n",
      "|   ARMY ALERT OnTFMA|       22541|\n",
      "|         Gerd Muller|       47094|\n",
      "|           Air India|        null|\n",
      "|             Shamita|        null|\n",
      "|                Puji|        null|\n",
      "|              Mahrez|       15331|\n",
      "|       Sant Garibdas|        null|\n",
      "|OTT KI SHAAN ZEESHAN|       20243|\n",
      "|                Iran|      119522|\n",
      "|                Jinx|        null|\n",
      "|              The US|      780511|\n",
      "+--------------------+------------+\n",
      "\n"
     ]
    }
   ],
   "source": [
    "trend_without_hashtag.createOrReplaceTempView(\"trend\")\n",
    "td=spark.sql(\"select name, tweet_volume from trend\")\n",
    "td.show(50)"
   ]
  },
  {
   "cell_type": "code",
   "execution_count": null,
   "metadata": {},
   "outputs": [],
   "source": []
  }
 ],
 "metadata": {
  "kernelspec": {
   "display_name": "Python 3",
   "language": "python",
   "name": "python3"
  },
  "language_info": {
   "codemirror_mode": {
    "name": "ipython",
    "version": 3
   },
   "file_extension": ".py",
   "mimetype": "text/x-python",
   "name": "python",
   "nbconvert_exporter": "python",
   "pygments_lexer": "ipython3",
   "version": "3.8.8"
  }
 },
 "nbformat": 4,
 "nbformat_minor": 2
}
