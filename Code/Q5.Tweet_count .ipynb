{
 "cells": [
  {
   "cell_type": "code",
   "execution_count": 1,
   "id": "d4257a45",
   "metadata": {},
   "outputs": [
    {
     "data": {
      "text/html": [
       "\n",
       "            <div>\n",
       "                <p><b>SparkSession - hive</b></p>\n",
       "                \n",
       "        <div>\n",
       "            <p><b>SparkContext</b></p>\n",
       "\n",
       "            <p><a href=\"http://DESKTOP-U6TP5SP:4044\">Spark UI</a></p>\n",
       "\n",
       "            <dl>\n",
       "              <dt>Version</dt>\n",
       "                <dd><code>v3.1.2</code></dd>\n",
       "              <dt>Master</dt>\n",
       "                <dd><code>local[2]</code></dd>\n",
       "              <dt>AppName</dt>\n",
       "                <dd><code>PySparkShell</code></dd>\n",
       "            </dl>\n",
       "        </div>\n",
       "        \n",
       "            </div>\n",
       "        "
      ],
      "text/plain": [
       "<pyspark.sql.session.SparkSession at 0x16999f7e580>"
      ]
     },
     "execution_count": 1,
     "metadata": {},
     "output_type": "execute_result"
    }
   ],
   "source": [
    "import pyspark\n",
    "import pyspark.sql\n",
    "from pyspark import SparkContext\n",
    "sc = SparkContext.getOrCreate();\n",
    "import findspark\n",
    "findspark.init()\n",
    "from pyspark.sql import SparkSession\n",
    "spark = SparkSession.builder.master(\"local[*]\").getOrCreate()\n",
    "spark.conf.set(\"spark.sql.repl.eagerEval.enabled\", True) # Property used to format output tables better\n",
    "spark"
   ]
  },
  {
   "cell_type": "code",
   "execution_count": 3,
   "id": "888e75e3",
   "metadata": {},
   "outputs": [],
   "source": [
    "data1=spark.read.format(\"com.databricks.spark.csv\").options(inferSchema=\"true\",header='true',escape='\"').load(\"gender-classifier-DFE-791531.csv\")"
   ]
  },
  {
   "cell_type": "code",
   "execution_count": 4,
   "id": "d8f941b8",
   "metadata": {},
   "outputs": [
    {
     "name": "stdout",
     "output_type": "stream",
     "text": [
      "+---------+---------+---------+------------------+------------------+------------------+-----------------+----------+---------------------+----------------+--------------------+----------+-----------+----------+---------------+---------------+--------------------+-------------+-------------+--------------------+-----------+\n",
      "|_unit_id0|_unit_id1|_unit_id2|_trusted_judgments|_last_judgment_at4|_last_judgment_at5|gender:confidence|profile_yn|profile_yn:confidence|         created|         description|fav_number|gender_gold|link_color|           name|profile_yn_gold|        profileimage|retweet_count|sidebar_color|                text|tweet_count|\n",
      "+---------+---------+---------+------------------+------------------+------------------+-----------------+----------+---------------------+----------------+--------------------+----------+-----------+----------+---------------+---------------+--------------------+-------------+-------------+--------------------+-----------+\n",
      "|815719226|    FALSE|finalized|                 3|    10/26/15 23:24|              male|                1|       yes|                    1|12-05-2013 01:48|i sing my own rhy...|         0|       null|    08C2C2|        sheezy0|           null|https://pbs.twimg...|            0|       FFFFFF|Robbie E Responds...|     110964|\n",
      "|815719227|    FALSE|finalized|                 3|    10/26/15 23:30|              male|                1|       yes|                    1|10-01-2012 13:51|I'm the author of...|        68|       null|    0084B4|    DavdBurnett|           null|https://pbs.twimg...|            0|       C0DEED|���It felt like t...|       7471|\n",
      "|815719228|    FALSE|finalized|                 3|    10/26/15 23:33|              male|           0.6625|       yes|                    1|  11/28/14 11:30|louis whining and...|      7696|       null|    ABB8C2| lwtprettylaugh|           null|https://pbs.twimg...|            1|       C0DEED|i absolutely ador...|       5617|\n",
      "|815719229|    FALSE|finalized|                 3|    10/26/15 23:10|              male|                1|       yes|                    1|06-11-2009 22:39|Mobile guy.  49er...|       202|       null|    0084B4|    douggarland|           null|https://pbs.twimg...|            0|       C0DEED|Hi @JordanSpieth ...|       1693|\n",
      "|815719230|    FALSE|finalized|                 3|     10/27/15 1:15|            female|                1|       yes|                    1|   4/16/14 13:23|Ricky Wilson The ...|     37318|       null|    3B94D9|   WilfordGemma|           null|https://pbs.twimg...|            0|            0|Watching Neighbou...|      31462|\n",
      "|815719231|    FALSE|finalized|                 3|     10/27/15 1:47|            female|                1|       yes|                    1|03-11-2010 18:14|  you don't know me.|      3901|       null|    F5ABB5|  monroevicious|           null|https://pbs.twimg...|            0|            0|Ive seen people o...|      20036|\n",
      "|815719232|    FALSE|finalized|                 3|     10/27/15 1:57|             brand|                1|       yes|                    1|   4/24/08 13:03|A global marketpl...|      4122|       null|    298AAE|   Shutterstock|           null|https://pbs.twimg...|            0|            0|@BpackEngineer Th...|      13354|\n",
      "|815719233|    FALSE|finalized|                 3|    10/26/15 23:48|              male|                1|       yes|                    1|12-03-2012 21:54|The secret of get...|        80|       null|    0000FF|     RobinMeske|           null|https://pbs.twimg...|            0|       C0DEED|Gala Bingo clubs ...|     112117|\n",
      "|815719234|    FALSE|finalized|                 3|     10/27/15 1:52|            female|                1|       yes|                    1|09-08-2015 04:50|Pll Fan // Crazy ...|      1825|       null|    9266CC|      pigzilla_|           null|https://pbs.twimg...|            0|            0|@_Aphmau_ the pic...|        482|\n",
      "|815719235|    FALSE|finalized|                 3|     10/27/15 1:49|            female|                1|       yes|                    1|    5/13/11 3:32|Renaissance art h...|      3115|       null|    9266CC|  GabrieleNeher|           null|https://pbs.twimg...|            0|       FFFFFF|@Evielady just ho...|      26085|\n",
      "|815719236|    FALSE|finalized|                 3|    10/26/15 23:17|             brand|           0.7002|       yes|                    1|  11/16/11 17:14|Clean food that t...|       516|       null|    0084B4|  Blissful_Eats|           null|https://pbs.twimg...|            0|       C0DEED|how are you takin...|       5179|\n",
      "|815719237|    FALSE|finalized|                 3|    10/26/15 22:33|             brand|                1|       yes|                    1|   2/22/15 20:06|highly extraordin...|         0|       null|    0084B4|   eliseotecleo|           null|https://pbs.twimg...|            0|       C0DEED|MTG Deals 1x Rank...|      66684|\n",
      "|815719238|    FALSE|finalized|                 3|    10/26/15 22:20|            female|           0.6509|       yes|                    1|08-10-2012 05:05|Senior '16 . XI-X...|      3371|       null|    0084B4| kaylanabrewer_|           null|https://pbs.twimg...|            0|       FFFFFF|Just put my ass o...|      13585|\n",
      "|815719239|    FALSE|finalized|                 3|    10/26/15 23:29|             brand|                1|       yes|                    1|05-01-2012 22:14|Come join the fas...|         0|       null|    2FC2EF|  americacredit|           null|https://pbs.twimg...|            0|       181A1E|https://t.co/z4sb...|     199466|\n",
      "|815719240|    FALSE|finalized|                 3|     10/27/15 1:29|            female|           0.6501|       yes|                    1|04-06-2013 15:31|im just here for ...|     13928|       null|    0084B4|       cheyflan|           null|https://pbs.twimg...|            0|       FFFFFF|will i even need ...|      18469|\n",
      "|815719241|    FALSE|finalized|                 3|     10/27/15 1:50|            female|                1|       yes|                    1|10-03-2015 21:32|                null|         0|       null|    0084B4|      Ayu7sith4|           null|https://pbs.twimg...|            0|       C0DEED|https://t.co/EROG...|      44421|\n",
      "|815719242|    FALSE|finalized|                 3|    10/26/15 23:43|            female|                1|       yes|                    1|    8/27/11 9:42|           JMKM�_ҕ��|      1762|       null|     58185|   Toucaan_Samm|           null|https://pbs.twimg...|            0|       EEEEEE|@giannaaa28 lmao ...|      16627|\n",
      "|815719243|    FALSE|finalized|                 3|    10/26/15 22:50|              male|                1|       yes|                    1|  10/18/09 11:41|Over enthusiastic...|         5|       null|    0084B4|     SSmyth2010|           null|https://pbs.twimg...|            0|       C0DEED|@coolyazzy94 Ditt...|         91|\n",
      "|815719244|    FALSE|finalized|                 3|     10/27/15 1:42|              male|                1|       yes|                    1|   7/20/15 12:01|                null|         1|       null|    0084B4|DarkToonsGaming|           null|https://pbs.twimg...|            0|       C0DEED|@CaribBros @JstSa...|         13|\n",
      "|815719245|    FALSE|finalized|                 3|    10/26/15 22:19|           unknown|           0.3527|       yes|                    1|    1/30/15 9:52|                null|       160|       null|    0084B4|    GourlayLynn|           null|https://pbs.twimg...|            0|            0|Me too, saw five ...|       2398|\n",
      "+---------+---------+---------+------------------+------------------+------------------+-----------------+----------+---------------------+----------------+--------------------+----------+-----------+----------+---------------+---------------+--------------------+-------------+-------------+--------------------+-----------+\n",
      "only showing top 20 rows\n",
      "\n"
     ]
    }
   ],
   "source": [
    "data1.show()"
   ]
  },
  {
   "cell_type": "code",
   "execution_count": 5,
   "id": "db6ee46c",
   "metadata": {},
   "outputs": [
    {
     "data": {
      "text/html": [
       "<table border='1'>\n",
       "<tr><th>_unit_id0</th><th>_unit_id1</th><th>_unit_id2</th><th>_trusted_judgments</th><th>_last_judgment_at4</th><th>_last_judgment_at5</th><th>gender:confidence</th><th>profile_yn</th><th>profile_yn:confidence</th><th>created</th><th>description</th><th>fav_number</th><th>gender_gold</th><th>link_color</th><th>name</th><th>profile_yn_gold</th><th>profileimage</th><th>retweet_count</th><th>sidebar_color</th><th>text</th><th>tweet_count</th></tr>\n",
       "<tr><td>815735441</td><td>FALSE</td><td>finalized</td><td>3</td><td>10/27/15 0:22</td><td>male</td><td>1</td><td>yes</td><td>1</td><td>2/21/12 18:17</td><td>Confira as ultima...</td><td>81372</td><td>null</td><td>FFCC4D</td><td>gabrieldsmqs</td><td>null</td><td>https://pbs.twimg...</td><td>0</td><td>0</td><td>One State�۪s Stru...</td><td>2680199</td></tr>\n",
       "<tr><td>815726310</td><td>FALSE</td><td>finalized</td><td>3</td><td>10/26/15 23:07</td><td>brand</td><td>1</td><td>yes</td><td>1</td><td>07-06-2010 13:21</td><td>The Map Game is a...</td><td>1</td><td>null</td><td>386B1E</td><td>Map_Game</td><td>null</td><td>https://pbs.twimg...</td><td>0</td><td>EEEEEE</td><td>Can you find Wars...</td><td>2372591</td></tr>\n",
       "<tr><td>815726181</td><td>FALSE</td><td>finalized</td><td>3</td><td>10/26/15 23:21</td><td>brand</td><td>1</td><td>yes</td><td>1</td><td>07-06-2010 13:21</td><td>The Map Game is a...</td><td>1</td><td>null</td><td>386B1E</td><td>Map_Game</td><td>null</td><td>https://pbs.twimg...</td><td>0</td><td>EEEEEE</td><td>Where is Warsaw o...</td><td>2372591</td></tr>\n",
       "<tr><td>815723613</td><td>FALSE</td><td>finalized</td><td>3</td><td>10/26/15 22:15</td><td>brand</td><td>1</td><td>yes</td><td>1</td><td>07-06-2010 13:21</td><td>The Map Game is a...</td><td>1</td><td>null</td><td>386B1E</td><td>Map_Game</td><td>null</td><td>https://pbs.twimg...</td><td>0</td><td>EEEEEE</td><td>Can you find Ajda...</td><td>2372591</td></tr>\n",
       "<tr><td>815724225</td><td>FALSE</td><td>finalized</td><td>3</td><td>10/26/15 22:14</td><td>brand</td><td>0.6509</td><td>yes</td><td>1</td><td>07-06-2010 13:21</td><td>The Map Game is a...</td><td>1</td><td>null</td><td>386B1E</td><td>Map_Game</td><td>null</td><td>https://pbs.twimg...</td><td>0</td><td>EEEEEE</td><td>Can you find Wuns...</td><td>2372591</td></tr>\n",
       "<tr><td>815724665</td><td>FALSE</td><td>finalized</td><td>3</td><td>10/26/15 23:45</td><td>brand</td><td>1</td><td>yes</td><td>1</td><td>07-06-2010 13:21</td><td>The Map Game is a...</td><td>1</td><td>null</td><td>386B1E</td><td>Map_Game</td><td>null</td><td>https://pbs.twimg...</td><td>0</td><td>EEEEEE</td><td>Can you find Pine...</td><td>2372591</td></tr>\n",
       "<tr><td>815724495</td><td>FALSE</td><td>finalized</td><td>3</td><td>10/26/15 23:41</td><td>brand</td><td>1</td><td>yes</td><td>1</td><td>07-06-2010 13:21</td><td>The Map Game is a...</td><td>1</td><td>null</td><td>386B1E</td><td>Map_Game</td><td>null</td><td>https://pbs.twimg...</td><td>0</td><td>EEEEEE</td><td>Can you find Craw...</td><td>2372591</td></tr>\n",
       "<tr><td>815724399</td><td>FALSE</td><td>finalized</td><td>3</td><td>10/27/15 1:05</td><td>brand</td><td>1</td><td>yes</td><td>1</td><td>07-06-2010 13:21</td><td>The Map Game is a...</td><td>1</td><td>null</td><td>386B1E</td><td>Map_Game</td><td>null</td><td>https://pbs.twimg...</td><td>0</td><td>EEEEEE</td><td>Where is Pinellas...</td><td>2372591</td></tr>\n",
       "<tr><td>815726849</td><td>FALSE</td><td>finalized</td><td>3</td><td>10/26/15 23:51</td><td>brand</td><td>1</td><td>yes</td><td>1</td><td>07-06-2010 13:21</td><td>The Map Game is a...</td><td>1</td><td>null</td><td>386B1E</td><td>Map_Game</td><td>null</td><td>https://pbs.twimg...</td><td>0</td><td>EEEEEE</td><td>Where is Kinshasa...</td><td>2372591</td></tr>\n",
       "<tr><td>815725901</td><td>FALSE</td><td>finalized</td><td>3</td><td>10/26/15 22:00</td><td>brand</td><td>0.6483</td><td>yes</td><td>1</td><td>07-06-2010 13:21</td><td>The Map Game is a...</td><td>1</td><td>null</td><td>386B1E</td><td>Map_Game</td><td>null</td><td>https://pbs.twimg...</td><td>0</td><td>EEEEEE</td><td>Can you find Pont...</td><td>2372591</td></tr>\n",
       "<tr><td>815724046</td><td>FALSE</td><td>finalized</td><td>3</td><td>10/26/15 21:55</td><td>brand</td><td>1</td><td>yes</td><td>1</td><td>07-06-2010 13:21</td><td>The Map Game is a...</td><td>1</td><td>null</td><td>386B1E</td><td>Map_Game</td><td>null</td><td>https://pbs.twimg...</td><td>0</td><td>EEEEEE</td><td>Where is Ajdabiya...</td><td>2372591</td></tr>\n",
       "<tr><td>815725682</td><td>FALSE</td><td>finalized</td><td>3</td><td>10/26/15 21:49</td><td>brand</td><td>1</td><td>yes</td><td>1</td><td>07-06-2010 13:21</td><td>The Map Game is a...</td><td>1</td><td>null</td><td>386B1E</td><td>Map_Game</td><td>null</td><td>https://pbs.twimg...</td><td>0</td><td>EEEEEE</td><td>Can you find Pune...</td><td>2372591</td></tr>\n",
       "<tr><td>815723867</td><td>FALSE</td><td>finalized</td><td>3</td><td>10/27/15 1:14</td><td>brand</td><td>1</td><td>yes</td><td>1</td><td>07-06-2010 13:21</td><td>The Map Game is a...</td><td>1</td><td>null</td><td>386B1E</td><td>Map_Game</td><td>null</td><td>https://pbs.twimg...</td><td>0</td><td>EEEEEE</td><td>Can you find Bolo...</td><td>2372591</td></tr>\n",
       "<tr><td>815723280</td><td>FALSE</td><td>finalized</td><td>3</td><td>10/27/15 1:12</td><td>brand</td><td>1</td><td>yes</td><td>1</td><td>07-06-2010 13:21</td><td>The Map Game is a...</td><td>1</td><td>null</td><td>386B1E</td><td>Map_Game</td><td>null</td><td>https://pbs.twimg...</td><td>0</td><td>EEEEEE</td><td>Where is Belgrade...</td><td>2372591</td></tr>\n",
       "<tr><td>815725331</td><td>FALSE</td><td>finalized</td><td>3</td><td>10/26/15 23:58</td><td>brand</td><td>1</td><td>yes</td><td>1</td><td>07-06-2010 13:21</td><td>The Map Game is a...</td><td>1</td><td>null</td><td>386B1E</td><td>Map_Game</td><td>null</td><td>https://pbs.twimg...</td><td>0</td><td>EEEEEE</td><td>Where is Pune on ...</td><td>2372591</td></tr>\n",
       "<tr><td>815723544</td><td>FALSE</td><td>finalized</td><td>3</td><td>10/26/15 22:11</td><td>brand</td><td>0.6561</td><td>yes</td><td>1</td><td>07-06-2010 13:21</td><td>The Map Game is a...</td><td>1</td><td>null</td><td>386B1E</td><td>Map_Game</td><td>null</td><td>https://pbs.twimg...</td><td>0</td><td>EEEEEE</td><td>Where is Doha on ...</td><td>2372591</td></tr>\n",
       "<tr><td>815724872</td><td>FALSE</td><td>finalized</td><td>3</td><td>10/27/15 0:41</td><td>brand</td><td>1</td><td>yes</td><td>1</td><td>07-06-2010 13:21</td><td>The Map Game is a...</td><td>1</td><td>null</td><td>386B1E</td><td>Map_Game</td><td>null</td><td>https://pbs.twimg...</td><td>0</td><td>EEEEEE</td><td>Can you find Calc...</td><td>2372591</td></tr>\n",
       "<tr><td>815724966</td><td>FALSE</td><td>finalized</td><td>3</td><td>10/26/15 22:46</td><td>brand</td><td>1</td><td>yes</td><td>1</td><td>07-06-2010 13:21</td><td>The Map Game is a...</td><td>1</td><td>null</td><td>386B1E</td><td>Map_Game</td><td>null</td><td>https://pbs.twimg...</td><td>0</td><td>EEEEEE</td><td>Where is Crawley ...</td><td>2372591</td></tr>\n",
       "<tr><td>815723472</td><td>FALSE</td><td>finalized</td><td>3</td><td>10/26/15 22:21</td><td>brand</td><td>1</td><td>yes</td><td>1</td><td>07-06-2010 13:21</td><td>The Map Game is a...</td><td>1</td><td>null</td><td>386B1E</td><td>Map_Game</td><td>null</td><td>https://pbs.twimg...</td><td>0</td><td>EEEEEE</td><td>Can you find Doha...</td><td>2372591</td></tr>\n",
       "<tr><td>815725174</td><td>FALSE</td><td>finalized</td><td>3</td><td>10/26/15 22:06</td><td>brand</td><td>1</td><td>yes</td><td>1</td><td>07-06-2010 13:21</td><td>The Map Game is a...</td><td>1</td><td>null</td><td>386B1E</td><td>Map_Game</td><td>null</td><td>https://pbs.twimg...</td><td>0</td><td>EEEEEE</td><td>Can you find Male...</td><td>2372591</td></tr>\n",
       "</table>\n",
       "only showing top 20 rows\n"
      ],
      "text/plain": [
       "+---------+---------+---------+------------------+------------------+------------------+-----------------+----------+---------------------+----------------+--------------------+----------+-----------+----------+------------+---------------+--------------------+-------------+-------------+--------------------+-----------+\n",
       "|_unit_id0|_unit_id1|_unit_id2|_trusted_judgments|_last_judgment_at4|_last_judgment_at5|gender:confidence|profile_yn|profile_yn:confidence|         created|         description|fav_number|gender_gold|link_color|        name|profile_yn_gold|        profileimage|retweet_count|sidebar_color|                text|tweet_count|\n",
       "+---------+---------+---------+------------------+------------------+------------------+-----------------+----------+---------------------+----------------+--------------------+----------+-----------+----------+------------+---------------+--------------------+-------------+-------------+--------------------+-----------+\n",
       "|815735441|    FALSE|finalized|                 3|     10/27/15 0:22|              male|                1|       yes|                    1|   2/21/12 18:17|Confira as ultima...|     81372|       null|    FFCC4D|gabrieldsmqs|           null|https://pbs.twimg...|            0|            0|One State�۪s Stru...|    2680199|\n",
       "|815726310|    FALSE|finalized|                 3|    10/26/15 23:07|             brand|                1|       yes|                    1|07-06-2010 13:21|The Map Game is a...|         1|       null|    386B1E|    Map_Game|           null|https://pbs.twimg...|            0|       EEEEEE|Can you find Wars...|    2372591|\n",
       "|815726181|    FALSE|finalized|                 3|    10/26/15 23:21|             brand|                1|       yes|                    1|07-06-2010 13:21|The Map Game is a...|         1|       null|    386B1E|    Map_Game|           null|https://pbs.twimg...|            0|       EEEEEE|Where is Warsaw o...|    2372591|\n",
       "|815723613|    FALSE|finalized|                 3|    10/26/15 22:15|             brand|                1|       yes|                    1|07-06-2010 13:21|The Map Game is a...|         1|       null|    386B1E|    Map_Game|           null|https://pbs.twimg...|            0|       EEEEEE|Can you find Ajda...|    2372591|\n",
       "|815724225|    FALSE|finalized|                 3|    10/26/15 22:14|             brand|           0.6509|       yes|                    1|07-06-2010 13:21|The Map Game is a...|         1|       null|    386B1E|    Map_Game|           null|https://pbs.twimg...|            0|       EEEEEE|Can you find Wuns...|    2372591|\n",
       "|815724665|    FALSE|finalized|                 3|    10/26/15 23:45|             brand|                1|       yes|                    1|07-06-2010 13:21|The Map Game is a...|         1|       null|    386B1E|    Map_Game|           null|https://pbs.twimg...|            0|       EEEEEE|Can you find Pine...|    2372591|\n",
       "|815724495|    FALSE|finalized|                 3|    10/26/15 23:41|             brand|                1|       yes|                    1|07-06-2010 13:21|The Map Game is a...|         1|       null|    386B1E|    Map_Game|           null|https://pbs.twimg...|            0|       EEEEEE|Can you find Craw...|    2372591|\n",
       "|815724399|    FALSE|finalized|                 3|     10/27/15 1:05|             brand|                1|       yes|                    1|07-06-2010 13:21|The Map Game is a...|         1|       null|    386B1E|    Map_Game|           null|https://pbs.twimg...|            0|       EEEEEE|Where is Pinellas...|    2372591|\n",
       "|815726849|    FALSE|finalized|                 3|    10/26/15 23:51|             brand|                1|       yes|                    1|07-06-2010 13:21|The Map Game is a...|         1|       null|    386B1E|    Map_Game|           null|https://pbs.twimg...|            0|       EEEEEE|Where is Kinshasa...|    2372591|\n",
       "|815725901|    FALSE|finalized|                 3|    10/26/15 22:00|             brand|           0.6483|       yes|                    1|07-06-2010 13:21|The Map Game is a...|         1|       null|    386B1E|    Map_Game|           null|https://pbs.twimg...|            0|       EEEEEE|Can you find Pont...|    2372591|\n",
       "|815724046|    FALSE|finalized|                 3|    10/26/15 21:55|             brand|                1|       yes|                    1|07-06-2010 13:21|The Map Game is a...|         1|       null|    386B1E|    Map_Game|           null|https://pbs.twimg...|            0|       EEEEEE|Where is Ajdabiya...|    2372591|\n",
       "|815725682|    FALSE|finalized|                 3|    10/26/15 21:49|             brand|                1|       yes|                    1|07-06-2010 13:21|The Map Game is a...|         1|       null|    386B1E|    Map_Game|           null|https://pbs.twimg...|            0|       EEEEEE|Can you find Pune...|    2372591|\n",
       "|815723867|    FALSE|finalized|                 3|     10/27/15 1:14|             brand|                1|       yes|                    1|07-06-2010 13:21|The Map Game is a...|         1|       null|    386B1E|    Map_Game|           null|https://pbs.twimg...|            0|       EEEEEE|Can you find Bolo...|    2372591|\n",
       "|815723280|    FALSE|finalized|                 3|     10/27/15 1:12|             brand|                1|       yes|                    1|07-06-2010 13:21|The Map Game is a...|         1|       null|    386B1E|    Map_Game|           null|https://pbs.twimg...|            0|       EEEEEE|Where is Belgrade...|    2372591|\n",
       "|815725331|    FALSE|finalized|                 3|    10/26/15 23:58|             brand|                1|       yes|                    1|07-06-2010 13:21|The Map Game is a...|         1|       null|    386B1E|    Map_Game|           null|https://pbs.twimg...|            0|       EEEEEE|Where is Pune on ...|    2372591|\n",
       "|815723544|    FALSE|finalized|                 3|    10/26/15 22:11|             brand|           0.6561|       yes|                    1|07-06-2010 13:21|The Map Game is a...|         1|       null|    386B1E|    Map_Game|           null|https://pbs.twimg...|            0|       EEEEEE|Where is Doha on ...|    2372591|\n",
       "|815724872|    FALSE|finalized|                 3|     10/27/15 0:41|             brand|                1|       yes|                    1|07-06-2010 13:21|The Map Game is a...|         1|       null|    386B1E|    Map_Game|           null|https://pbs.twimg...|            0|       EEEEEE|Can you find Calc...|    2372591|\n",
       "|815724966|    FALSE|finalized|                 3|    10/26/15 22:46|             brand|                1|       yes|                    1|07-06-2010 13:21|The Map Game is a...|         1|       null|    386B1E|    Map_Game|           null|https://pbs.twimg...|            0|       EEEEEE|Where is Crawley ...|    2372591|\n",
       "|815723472|    FALSE|finalized|                 3|    10/26/15 22:21|             brand|                1|       yes|                    1|07-06-2010 13:21|The Map Game is a...|         1|       null|    386B1E|    Map_Game|           null|https://pbs.twimg...|            0|       EEEEEE|Can you find Doha...|    2372591|\n",
       "|815725174|    FALSE|finalized|                 3|    10/26/15 22:06|             brand|                1|       yes|                    1|07-06-2010 13:21|The Map Game is a...|         1|       null|    386B1E|    Map_Game|           null|https://pbs.twimg...|            0|       EEEEEE|Can you find Male...|    2372591|\n",
       "+---------+---------+---------+------------------+------------------+------------------+-----------------+----------+---------------------+----------------+--------------------+----------+-----------+----------+------------+---------------+--------------------+-------------+-------------+--------------------+-----------+\n",
       "only showing top 20 rows"
      ]
     },
     "execution_count": 5,
     "metadata": {},
     "output_type": "execute_result"
    }
   ],
   "source": [
    "data1.createOrReplaceTempView('data')\n",
    "spark.sql(\"select * from data order by tweet_count desc\")"
   ]
  },
  {
   "cell_type": "code",
   "execution_count": 6,
   "id": "b5da6d2f",
   "metadata": {},
   "outputs": [
    {
     "name": "stdout",
     "output_type": "stream",
     "text": [
      "+---------------+-----------+\n",
      "|           name|tweet_count|\n",
      "+---------------+-----------+\n",
      "|   gabrieldsmqs|    2680199|\n",
      "|       Map_Game|    2372591|\n",
      "|      securenet|    2063482|\n",
      "|      vaporware|    1635317|\n",
      "|    virginmedia|    1302658|\n",
      "|    virginmedia|    1302593|\n",
      "|   Youjizz_free|    1213665|\n",
      "|   Youjizz_free|    1213663|\n",
      "|   Youjizz_free|    1213513|\n",
      "|   Youjizz_free|    1213512|\n",
      "|      cgnetwork|    1195667|\n",
      "|       VJB_Live|    1195248|\n",
      "|       VJB_Live|    1195187|\n",
      "|SparVolltreffer|    1167647|\n",
      "|   Daniell_MUFC|    1153937|\n",
      "| alexablackchan|    1125963|\n",
      "|   statweestics|    1112889|\n",
      "|        ronfeir|    1111596|\n",
      "|Mathematics1001|    1075021|\n",
      "|Mathematics1001|    1074990|\n",
      "+---------------+-----------+\n",
      "only showing top 20 rows\n",
      "\n"
     ]
    }
   ],
   "source": [
    "data1.select('name','tweet_count').distinct().where(data1.tweet_count>100000).sort(data1.tweet_count.desc()).show()"
   ]
  },
  {
   "cell_type": "code",
   "execution_count": null,
   "id": "12870b92",
   "metadata": {},
   "outputs": [],
   "source": []
  }
 ],
 "metadata": {
  "kernelspec": {
   "display_name": "Python 3",
   "language": "python",
   "name": "python3"
  },
  "language_info": {
   "codemirror_mode": {
    "name": "ipython",
    "version": 3
   },
   "file_extension": ".py",
   "mimetype": "text/x-python",
   "name": "python",
   "nbconvert_exporter": "python",
   "pygments_lexer": "ipython3",
   "version": "3.8.8"
  }
 },
 "nbformat": 4,
 "nbformat_minor": 5
}
